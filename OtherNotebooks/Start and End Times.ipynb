{
 "cells": [
  {
   "cell_type": "code",
   "execution_count": 5,
   "id": "f90ca933",
   "metadata": {},
   "outputs": [
    {
     "name": "stdout",
     "output_type": "stream",
     "text": [
      "Requirement already satisfied: json_stream in /Users/raymond/opt/anaconda3/lib/python3.9/site-packages (1.4.3)\r\n"
     ]
    }
   ],
   "source": [
    "import sys\n",
    "!{sys.executable} -m pip install json_stream\n",
    "import numpy as np\n",
    "import pandas as pd\n",
    "import json_stream\n",
    "import json\n",
    "import matplotlib.pyplot as plt"
   ]
  },
  {
   "cell_type": "code",
   "execution_count": 6,
   "id": "e4324fea",
   "metadata": {},
   "outputs": [
    {
     "name": "stdout",
     "output_type": "stream",
     "text": [
      "11058699\n",
      "DONE!\n"
     ]
    }
   ],
   "source": [
    "with open(\"dawn-event-data.json\") as f:\n",
    "    data = json.load(f)\n",
    "    print(len(data))\n",
    "    print(\"DONE!\")"
   ]
  },
  {
   "cell_type": "code",
   "execution_count": 7,
   "id": "b331c7bd",
   "metadata": {
    "scrolled": true
   },
   "outputs": [
    {
     "name": "stdout",
     "output_type": "stream",
     "text": [
      "{'time': 1664339224992, 'userId': 1, 'platform': 'android', 'position': [168.97, 100.03, -411.21], 'country': 'CN', 'events': {'ping': 1}}\n"
     ]
    }
   ],
   "source": [
    "print(data[0])"
   ]
  },
  {
   "cell_type": "code",
   "execution_count": 12,
   "id": "7c186fcb",
   "metadata": {},
   "outputs": [],
   "source": [
    "start_times = {}\n",
    "for skyevent in data:\n",
    "    ID = skyevent[\"userId\"]\n",
    "    if ID not in start_times.keys():\n",
    "        start_times[ID] = skyevent[\"time\"]"
   ]
  },
  {
   "cell_type": "code",
   "execution_count": 16,
   "id": "9622f676",
   "metadata": {},
   "outputs": [],
   "source": [
    "end_times = {}\n",
    "for i in reversed(range(len(data))):\n",
    "    skyevent = data[i]\n",
    "    ID = skyevent[\"userId\"]\n",
    "    if ID not in end_times.keys():\n",
    "        end_times[ID] = skyevent[\"time\"]"
   ]
  },
  {
   "cell_type": "code",
   "execution_count": 17,
   "id": "2001c956",
   "metadata": {},
   "outputs": [],
   "source": [
    "level_times = {}\n",
    "for ID in start_times.keys():\n",
    "    level_times[ID] = end_times[ID] - start_times[ID]"
   ]
  },
  {
   "cell_type": "code",
   "execution_count": 44,
   "id": "07b5a31e",
   "metadata": {},
   "outputs": [
    {
     "data": {
      "text/plain": [
       "(array([6.1394e+04, 2.2020e+03, 1.4820e+03, 1.0930e+03, 7.9600e+02,\n",
       "        5.2200e+02, 3.2600e+02, 1.4800e+02, 9.6000e+01, 5.4000e+01]),\n",
       " array([   0.        ,  107.25494167,  214.50988333,  321.764825  ,\n",
       "         429.01976667,  536.27470833,  643.52965   ,  750.78459167,\n",
       "         858.03953333,  965.294475  , 1072.54941667]),\n",
       " <BarContainer object of 10 artists>)"
      ]
     },
     "execution_count": 44,
     "metadata": {},
     "output_type": "execute_result"
    },
    {
     "data": {
      "image/png": "[encoded data removed]",
      "text/plain": [
       "<Figure size 432x288 with 1 Axes>"
      ]
     },
     "metadata": {
      "needs_background": "light"
     },
     "output_type": "display_data"
    }
   ],
   "source": [
    "values = list(level_times.values())\n",
    "values = np.multiply(1/60000, values)\n",
    "plt.hist(values)"
   ]
  },
  {
   "cell_type": "code",
   "execution_count": 70,
   "id": "ba3e4537",
   "metadata": {},
   "outputs": [],
   "source": [
    "filtered_values = list(filter(lambda x: (x < 60 and x != 0), values))\n"
   ]
  },
  {
   "cell_type": "code",
   "execution_count": 71,
   "id": "f22a39cd",
   "metadata": {},
   "outputs": [
    {
     "data": {
      "text/plain": [
       "(array([3309., 2456., 2615., 2906., 2341., 2292., 2290., 2264., 2244.,\n",
       "        2344., 2282., 2077., 1845., 1669., 1494., 1304., 1183., 1186.,\n",
       "        1053.,  937.,  836.,  833.,  698.,  701.,  842.,  967., 1039.,\n",
       "        1031.,  982.,  878.,  793.,  683.,  566.,  507.,  418.,  374.,\n",
       "         341.,  320.,  272.,  252.,  227.,  232.,  201.,  206.,  172.,\n",
       "         179.,  145.,  152.,  140.,  134.,  127.,  126.,  114.,  106.,\n",
       "          89.,  105.,  115.,   95.,  100.,   87.,   95.,   84.,   72.,\n",
       "          71.,   83.,   67.,   76.,   53.,   64.,   48.,   67.,   67.,\n",
       "          63.,   38.,   43.,   48.,   45.,   50.,   58.,   38.,   36.,\n",
       "          42.,   38.,   41.,   52.,   39.,   37.,   34.,   29.,   51.,\n",
       "          36.,   38.,   33.,   42.,   37.,   45.,   45.,   30.,   28.,\n",
       "          28.]),\n",
       " array([1.66666667e-05, 5.99997167e-01, 1.19997767e+00, 1.79995817e+00,\n",
       "        2.39993867e+00, 2.99991917e+00, 3.59989967e+00, 4.19988017e+00,\n",
       "        4.79986067e+00, 5.39984117e+00, 5.99982167e+00, 6.59980217e+00,\n",
       "        7.19978267e+00, 7.79976317e+00, 8.39974367e+00, 8.99972417e+00,\n",
       "        9.59970467e+00, 1.01996852e+01, 1.07996657e+01, 1.13996462e+01,\n",
       "        1.19996267e+01, 1.25996072e+01, 1.31995877e+01, 1.37995682e+01,\n",
       "        1.43995487e+01, 1.49995292e+01, 1.55995097e+01, 1.61994902e+01,\n",
       "        1.67994707e+01, 1.73994512e+01, 1.79994317e+01, 1.85994122e+01,\n",
       "        1.91993927e+01, 1.97993732e+01, 2.03993537e+01, 2.09993342e+01,\n",
       "        2.15993147e+01, 2.21992952e+01, 2.27992757e+01, 2.33992562e+01,\n",
       "        2.39992367e+01, 2.45992172e+01, 2.51991977e+01, 2.57991782e+01,\n",
       "        2.63991587e+01, 2.69991392e+01, 2.75991197e+01, 2.81991002e+01,\n",
       "        2.87990807e+01, 2.93990612e+01, 2.99990417e+01, 3.05990222e+01,\n",
       "        3.11990027e+01, 3.17989832e+01, 3.23989637e+01, 3.29989442e+01,\n",
       "        3.35989247e+01, 3.41989052e+01, 3.47988857e+01, 3.53988662e+01,\n",
       "        3.59988467e+01, 3.65988272e+01, 3.71988077e+01, 3.77987882e+01,\n",
       "        3.83987687e+01, 3.89987492e+01, 3.95987297e+01, 4.01987102e+01,\n",
       "        4.07986907e+01, 4.13986712e+01, 4.19986517e+01, 4.25986322e+01,\n",
       "        4.31986127e+01, 4.37985932e+01, 4.43985737e+01, 4.49985542e+01,\n",
       "        4.55985347e+01, 4.61985152e+01, 4.67984957e+01, 4.73984762e+01,\n",
       "        4.79984567e+01, 4.85984372e+01, 4.91984177e+01, 4.97983982e+01,\n",
       "        5.03983787e+01, 5.09983592e+01, 5.15983397e+01, 5.21983202e+01,\n",
       "        5.27983007e+01, 5.33982812e+01, 5.39982617e+01, 5.45982422e+01,\n",
       "        5.51982227e+01, 5.57982032e+01, 5.63981837e+01, 5.69981642e+01,\n",
       "        5.75981447e+01, 5.81981252e+01, 5.87981057e+01, 5.93980862e+01,\n",
       "        5.99980667e+01]),\n",
       " <BarContainer object of 100 artists>)"
      ]
     },
     "execution_count": 71,
     "metadata": {},
     "output_type": "execute_result"
    },
    {
     "data": {
      "image/png": "[encoded data removed]",
      "text/plain": [
       "<Figure size 432x288 with 1 Axes>"
      ]
     },
     "metadata": {
      "needs_background": "light"
     },
     "output_type": "display_data"
    }
   ],
   "source": [
    "plt.hist(filtered_values, 100)"
   ]
  }
 ],
 "metadata": {
  "kernelspec": {
   "display_name": "Python 3 (ipykernel)",
   "language": "python",
   "name": "python3"
  },
  "language_info": {
   "codemirror_mode": {
    "name": "ipython",
    "version": 3
   },
   "file_extension": ".py",
   "mimetype": "text/x-python",
   "name": "python",
   "nbconvert_exporter": "python",
   "pygments_lexer": "ipython3",
   "version": "3.9.7"
  }
 },
 "nbformat": 4,
 "nbformat_minor": 5
}
